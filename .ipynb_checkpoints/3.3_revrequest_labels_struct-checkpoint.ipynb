{
 "cells": [
  {
   "cell_type": "code",
   "execution_count": 2,
   "metadata": {},
   "outputs": [],
   "source": [
    "% matplotlib inline\n",
    "\n",
    "import pandas as pd, numpy as np\n",
    "import seaborn as sns\n",
    "import utils.stats as stats\n",
    "import utils.viz as viz\n",
    "import statsmodels.formula.api as smf\n",
    "import utils.viz as viz\n",
    "from scipy.stats import shapiro\n",
    "import matplotlib.pyplot as plt\n",
    "\n",
    "sns.set_style('whitegrid')\n",
    "sns.set_context('poster')\n",
    "\n",
    "data_dir = '/Users/sabine/workspace/distconnect_macaque/data'\n",
    "\n",
    "df_r = pd.read_pickle('%s/df_regionwise.pkl' % data_dir)\n",
    "df_p = pd.read_pickle('%s/df_pairwise.pkl' % data_dir)"
   ]
  },
  {
   "cell_type": "code",
   "execution_count": 3,
   "metadata": {},
   "outputs": [],
   "source": [
    "df_r = df_r.rename(columns={'injection distance from nearest primary region': \"dist_inj_prim\",\n",
    "                            'incoming': \"connectivity_distance\"})"
   ]
  },
  {
   "cell_type": "code",
   "execution_count": 8,
   "metadata": {},
   "outputs": [],
   "source": [
    "excl_areas = ['9', '10', '11', '12', '9_46d', '9_46v', '46d', '46v', 'TEpd'] \n",
    "fltr = df_r.area.isin(excl_areas)"
   ]
  },
  {
   "cell_type": "code",
   "execution_count": 9,
   "metadata": {},
   "outputs": [],
   "source": [
    "fltr = (df_r.area.isin(excl_areas) | df_r.connectivity_distance.isnull())"
   ]
  },
  {
   "cell_type": "code",
   "execution_count": 10,
   "metadata": {},
   "outputs": [],
   "source": [
    "null = smf.ols(formula='connectivity_distance ~ location + region_size', data=df_r[~fltr]).fit()"
   ]
  },
  {
   "cell_type": "code",
   "execution_count": 11,
   "metadata": {},
   "outputs": [
    {
     "name": "stdout",
     "output_type": "stream",
     "text": [
      "                              OLS Regression Results                             \n",
      "=================================================================================\n",
      "Dep. Variable:     connectivity_distance   R-squared:                       0.716\n",
      "Model:                               OLS   Adj. R-squared:                  0.674\n",
      "Method:                    Least Squares   F-statistic:                     16.83\n",
      "Date:                   Sun, 13 May 2018   Prob (F-statistic):           1.08e-05\n",
      "Time:                           13:46:27   Log-Likelihood:                -55.341\n",
      "No. Observations:                     24   AIC:                             118.7\n",
      "Df Residuals:                         20   BIC:                             123.4\n",
      "Df Model:                              3                                         \n",
      "Covariance Type:               nonrobust                                         \n",
      "=================================================================================\n",
      "                    coef    std err          t      P>|t|      [0.025      0.975]\n",
      "---------------------------------------------------------------------------------\n",
      "Intercept        30.3358      4.439      6.835      0.000      21.077      39.594\n",
      "location         -0.3983      0.098     -4.054      0.001      -0.603      -0.193\n",
      "region_size       0.0065      0.001      6.185      0.000       0.004       0.009\n",
      "dist_inj_prim     0.3015      0.087      3.468      0.002       0.120       0.483\n",
      "==============================================================================\n",
      "Omnibus:                        1.241   Durbin-Watson:                   2.297\n",
      "Prob(Omnibus):                  0.538   Jarque-Bera (JB):                1.146\n",
      "Skew:                           0.408   Prob(JB):                        0.564\n",
      "Kurtosis:                       2.307   Cond. No.                     6.57e+03\n",
      "==============================================================================\n",
      "\n",
      "Warnings:\n",
      "[1] Standard Errors assume that the covariance matrix of the errors is correctly specified.\n",
      "[2] The condition number is large, 6.57e+03. This might indicate that there are\n",
      "strong multicollinearity or other numerical problems.\n"
     ]
    }
   ],
   "source": [
    "model = smf.ols(formula='connectivity_distance ~ location \\\n",
    "                                                 + region_size \\\n",
    "                                                 + dist_inj_prim', data=df_r[~fltr]).fit()\n",
    "print model.summary()"
   ]
  },
  {
   "cell_type": "code",
   "execution_count": 12,
   "metadata": {},
   "outputs": [
    {
     "name": "stderr",
     "output_type": "stream",
     "text": [
      "/Users/sabine/anaconda2/envs/distconnect/lib/python2.7/site-packages/ipykernel_launcher.py:2: SettingWithCopyWarning: \n",
      "A value is trying to be set on a copy of a slice from a DataFrame\n",
      "\n",
      "See the caveats in the documentation: http://pandas.pydata.org/pandas-docs/stable/indexing.html#indexing-view-versus-copy\n",
      "  \n"
     ]
    }
   ],
   "source": [
    "df_r['corrected_condist'] = None\n",
    "df_r['corrected_condist'][~fltr] = null.resid + df_r.connectivity_distance[~fltr].mean()"
   ]
  },
  {
   "cell_type": "code",
   "execution_count": 37,
   "metadata": {},
   "outputs": [],
   "source": [
    "df_r[\"corrected_condist\"] = df_r.corrected_condist.astype('float16')"
   ]
  },
  {
   "cell_type": "code",
   "execution_count": 52,
   "metadata": {},
   "outputs": [],
   "source": [
    "def label_point(x, y, val, ax):\n",
    "    a = pd.concat({'x': x, 'y': y, 'val': val}, axis=1)\n",
    "    for i, point in a.iterrows():\n",
    "        ax.text(point['x']+.02, point['y'], str(point['val']), size='xx-small')"
   ]
  },
  {
   "cell_type": "code",
   "execution_count": 53,
   "metadata": {},
   "outputs": [],
   "source": [
    "sns.set_style('white')"
   ]
  },
  {
   "cell_type": "code",
   "execution_count": 95,
   "metadata": {},
   "outputs": [],
   "source": [
    "def label_point(x, y, val, ax):\n",
    "    a = pd.concat({'x': x, 'y': y, 'val': val}, axis=1)\n",
    "    for i, point in a.iterrows():\n",
    "        ax.text(point['x']+.4, point['y']-.3, str(point['val']), size='xx-small')"
   ]
  },
  {
   "cell_type": "code",
   "execution_count": 97,
   "metadata": {},
   "outputs": [
    {
     "data": {
      "image/png": "[encoded data removed]",
      "text/plain": [
       "<Figure size 432x432 with 3 Axes>"
      ]
     },
     "metadata": {},
     "output_type": "display_data"
    }
   ],
   "source": [
    "g = sns.jointplot(x=\"dist_inj_prim\", y=\"corrected_condist\", \n",
    "                  data=df_r[~fltr], kind='reg', \n",
    "                  color=\"#533cc6\", \n",
    "                  xlim=(-2,30), ylim=(13,27),\n",
    "                  stat_func=None,\n",
    "                  scatter_kws={\"s\": 30})\n",
    "\n",
    "\n",
    "plt.xticks([0,10,20,30])\n",
    "plt.yticks([15,25])\n",
    "plt.xlabel('')\n",
    "plt.ylabel('')\n",
    "\n",
    "\n",
    "label_point(df_r.dist_inj_prim[~fltr], \n",
    "            df_r.corrected_condist[~fltr], \n",
    "            df_r.area[~fltr], \n",
    "            plt.gca()) \n",
    "\n",
    "\n",
    "g.savefig('/Users/sabine/Downloads/relationship_struct.png', dpi=300)"
   ]
  }
 ],
 "metadata": {
  "kernelspec": {
   "display_name": "Python 2",
   "language": "python",
   "name": "python2"
  },
  "language_info": {
   "codemirror_mode": {
    "name": "ipython",
    "version": 2
   },
   "file_extension": ".py",
   "mimetype": "text/x-python",
   "name": "python",
   "nbconvert_exporter": "python",
   "pygments_lexer": "ipython2",
   "version": "2.7.14"
  }
 },
 "nbformat": 4,
 "nbformat_minor": 2
}
