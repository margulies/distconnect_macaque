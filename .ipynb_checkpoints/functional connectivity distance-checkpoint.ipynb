{
 "cells": [
  {
   "cell_type": "markdown",
   "metadata": {},
   "source": [
    "## Connectivity distance"
   ]
  },
  {
   "cell_type": "code",
   "execution_count": null,
   "metadata": {
    "collapsed": false
   },
   "outputs": [],
   "source": [
    "% matplotlib inline\n",
    "\n",
    "import nibabel as nib, numpy as np\n",
    "import surfdist as sd\n",
    "from surfdist import utils\n",
    "import gdist\n",
    "import multiprocessing"
   ]
  },
  {
   "cell_type": "code",
   "execution_count": null,
   "metadata": {
    "collapsed": true
   },
   "outputs": [],
   "source": [
    "# paths\n",
    "\n",
    "f_cort = # 'path/to/location/and/MacaqueYerkes19.L.atlasroi.10k_fs_LR.shape.gii'\n",
    "f_surf = # 'path/to/location/and/Willow.L.midthickness.10k_fs_LR.surf.gii\n",
    "f_fc = # path to and name of resting-state connectivity file\n",
    "f_out = # path to and name of output file"
   ]
  },
  {
   "cell_type": "code",
   "execution_count": null,
   "metadata": {
    "collapsed": false
   },
   "outputs": [],
   "source": [
    "# read in data\n",
    "\n",
    "fc = # read in f_fc, shape should be 10242 x 10242 array (one hemisphere)\n",
    "cort = np.where(nib.load(f_cort).darrays[0].data==1)[0]\n",
    "coords = nib.load(f_surf).darrays[0].data\n",
    "faces = nib.load(f_surf).darrays[1].data"
   ]
  },
  {
   "cell_type": "code",
   "execution_count": null,
   "metadata": {
    "collapsed": true
   },
   "outputs": [],
   "source": [
    "def run_meandist(node, seed_fc, thr, cort, vertices, triangles, meandist):\n",
    "    \n",
    "    cutoff = np.percentile(seed_fc, thr)\n",
    "    \n",
    "    src = utils.translate_src(node, cort)\n",
    "    trgt = utils.translate_src(np.where(seed_fc>cutoff)[0], cort)\n",
    "    \n",
    "    dists = gdist.compute_gdist(vertices, triangles, source_indices=src, target_indices=trgt)\n",
    "\n",
    "    meandist[node] = dists.mean()"
   ]
  },
  {
   "cell_type": "code",
   "execution_count": null,
   "metadata": {
    "collapsed": true
   },
   "outputs": [],
   "source": [
    "# run connectivity distance computations\n",
    "\n",
    "thr = 98\n",
    "vertices, triangles = sd.utils.surf_keep_cortex((coords, faces), cort)\n",
    "\n",
    "\n",
    "manager = multiprocessing.Manager()  # multiprocessing here not for parallel computing\n",
    "meandist = manager.dict()            # used in serial fashion \n",
    "jobs = []                            # to avoid memory garbage built-up of gdist function\n",
    "\n",
    "\n",
    "for node in cort:\n",
    "    \n",
    "    p = multiprocessing.Process(target = run_meandist,\n",
    "                                args = (node, \n",
    "                                        fc[node],\n",
    "                                        thr,\n",
    "                                        cort,\n",
    "                                        vertices, \n",
    "                                        triangles,\n",
    "                                        meandist))\n",
    "    jobs.append(p)\n",
    "    p.start()\n",
    "    p.join() # move one tab to left if you want to run in parallel using all cores"
   ]
  },
  {
   "cell_type": "code",
   "execution_count": null,
   "metadata": {
    "collapsed": true
   },
   "outputs": [],
   "source": [
    "# restructure output and save\n",
    "\n",
    "meandist = np.array([meandist[node] if node in cort else 0 \n",
    "                     for node in range(coords.shape[0])])\n",
    "\n",
    "np.save(f_out, meandist)"
   ]
  }
 ],
 "metadata": {
  "kernelspec": {
   "display_name": "Python 2",
   "language": "python",
   "name": "python2"
  },
  "language_info": {
   "codemirror_mode": {
    "name": "ipython",
    "version": 2
   },
   "file_extension": ".py",
   "mimetype": "text/x-python",
   "name": "python",
   "nbconvert_exporter": "python",
   "pygments_lexer": "ipython2",
   "version": "2.7.13"
  }
 },
 "nbformat": 4,
 "nbformat_minor": 0
}
